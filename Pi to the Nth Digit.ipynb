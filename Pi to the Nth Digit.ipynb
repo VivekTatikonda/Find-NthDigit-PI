{
 "cells": [
  {
   "cell_type": "code",
   "execution_count": 22,
   "metadata": {
    "scrolled": true
   },
   "outputs": [
    {
     "name": "stdout",
     "output_type": "stream",
     "text": [
      "Number Of Digits: 10\n",
      "3.141592653\n"
     ]
    }
   ],
   "source": [
    "import math\n",
    "\n",
    "\n",
    "def sqrt(n, one):\n",
    "    \"\"\"\n",
    "     Return the square root of n as a fixed point number with the one\n",
    "     passed in.  It uses a second order Newton-Raphson convergence.  This\n",
    "     doubles the number of significant figures on each iteration.\n",
    "    \"\"\"\n",
    "    floating_point_precision = 10 ** 16\n",
    "    n_float = float((n * floating_point_precision) // one) / floating_point_precision\n",
    "    x = (int(floating_point_precision * math.sqrt(n_float)) * one) // floating_point_precision\n",
    "    n_one = n * one\n",
    "    while True:\n",
    "        x_old = x\n",
    "        x = (x + n_one // x) // 2\n",
    "        if x == x_old:\n",
    "            break\n",
    "    return x\n",
    "\n",
    "\n",
    "def pi(one):\n",
    "    \"\"\"\n",
    "    Calculate pi using a Chudnovksy's series.\n",
    "    This calculates it in fixed point, using the precision passed in.\n",
    "    \"\"\"\n",
    "    k = 1\n",
    "    a_k = one\n",
    "    a_sum = one \n",
    "    b_sum = 0\n",
    "    C = 640320\n",
    "    C3_OVER_24 = C**3 // 24\n",
    "    while True:\n",
    "        a_k *= -(6 * k - 5) * (2 * k - 1) * (6 * k - 1)\n",
    "        a_k //= k**3 * C3_OVER_24\n",
    "        a_sum += a_k\n",
    "        b_sum += k * a_k\n",
    "        k += 1\n",
    "        if a_k == 0:\n",
    "            break\n",
    "    total = 13591409 * a_sum + 545140134 * b_sum\n",
    "    pi = (426880 * sqrt(10005 * one, one) * one) // total\n",
    "    return pi\n",
    "\n",
    "def main():\n",
    "    while True:\n",
    "        digits = input(\"Number Of Digits: \")\n",
    "        try:\n",
    "            if int(digits)<0 :\n",
    "                print('Enter number greater than zero')\n",
    "            else:\n",
    "                digits=int(digits)\n",
    "                break\n",
    "        except ValueError:\n",
    "            print (\"Enter a positive integer.\")\n",
    "    p = str(pi(10**(digits * 10)))[:digits]\n",
    "    print (p[0] + \".\" + p[1:])\n",
    "\n",
    "    \n",
    "if __name__ == \"__main__\":\n",
    "    main()"
   ]
  }
 ],
 "metadata": {
  "kernelspec": {
   "display_name": "Python 3",
   "language": "python",
   "name": "python3"
  },
  "language_info": {
   "codemirror_mode": {
    "name": "ipython",
    "version": 3
   },
   "file_extension": ".py",
   "mimetype": "text/x-python",
   "name": "python",
   "nbconvert_exporter": "python",
   "pygments_lexer": "ipython3",
   "version": "3.6.5"
  }
 },
 "nbformat": 4,
 "nbformat_minor": 2
}
